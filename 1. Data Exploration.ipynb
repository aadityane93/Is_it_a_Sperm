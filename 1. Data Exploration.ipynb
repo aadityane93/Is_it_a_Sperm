{
 "cells": [
  {
   "cell_type": "markdown",
   "id": "d8b85174-fac6-4221-aac9-2cafb13079b1",
   "metadata": {},
   "source": [
    "# Data Exploration"
   ]
  },
  {
   "cell_type": "markdown",
   "id": "bbb4dc1c-c156-4d36-99a2-d7ddfab43b7e",
   "metadata": {},
   "source": [
    "### Valid Images in Dataset"
   ]
  },
  {
   "cell_type": "code",
   "execution_count": null,
   "id": "4ab68b24-8ccc-4348-a871-1bc2de70569e",
   "metadata": {},
   "outputs": [],
   "source": []
  }
 ],
 "metadata": {
  "kernelspec": {
   "display_name": "Python 3 (ipykernel)",
   "language": "python",
   "name": "python3"
  },
  "language_info": {
   "codemirror_mode": {
    "name": "ipython",
    "version": 3
   },
   "file_extension": ".py",
   "mimetype": "text/x-python",
   "name": "python",
   "nbconvert_exporter": "python",
   "pygments_lexer": "ipython3",
   "version": "3.13.3"
  }
 },
 "nbformat": 4,
 "nbformat_minor": 5
}
